{
 "cells": [
  {
   "cell_type": "code",
   "execution_count": 1,
   "metadata": {
    "collapsed": false
   },
   "outputs": [
    {
     "name": "stdout",
     "output_type": "stream",
     "text": [
      "0 / 38\n",
      "1 / 38\n",
      "2 / 38\n",
      "3 / 38\n",
      "4 / 38\n",
      "5 / 38\n",
      "6 / 38\n",
      "7 / 38\n",
      "8 / 38\n",
      "9 / 38\n",
      "10 / 38\n",
      "11 / 38\n",
      "12 / 38\n",
      "13 / 38\n",
      "14 / 38\n",
      "15 / 38\n",
      "16 / 38\n",
      "17 / 38\n",
      "18 / 38\n",
      "19 / 38\n",
      "20 / 38\n",
      "21 / 38\n",
      "22 / 38\n",
      "23 / 38\n",
      "24 / 38\n",
      "25 / 38\n",
      "26 / 38\n",
      "27 / 38\n",
      "28 / 38\n",
      "29 / 38\n",
      "30 / 38\n",
      "31 / 38\n",
      "32 / 38\n",
      "33 / 38\n",
      "34 / 38\n",
      "35 / 38\n",
      "36 / 38\n",
      "37 / 38\n"
     ]
    }
   ],
   "source": [
    "import nltk\n",
    "from nltk.corpus import stopwords\n",
    "import string\n",
    "\n",
    "snowball = nltk.SnowballStemmer('english')\n",
    "\n",
    "works = {}\n",
    "\n",
    "total = 38\n",
    "\n",
    "for i in range(total):\n",
    "    filename = str(i+1)+\".txt\"\n",
    "    file = open(filename, \"r\")\n",
    "    text = file.read()\n",
    "    file.close()\n",
    "\n",
    "    f = open(filename, \"r\")\n",
    "    for _ in range(2):\n",
    "        next(f) \n",
    "    title = f.readline().strip('\\n')\n",
    "    f.close() \n",
    "    \n",
    "    acts = text.split('ACT')\n",
    "    \n",
    "    print (i, '/', total)\n",
    "    \n",
    "    for j in range(len(acts)):\n",
    "        act_title = title + \" ACT\" + acts[j][0:4]\n",
    "        text = acts[j]\n",
    "        words = nltk.tokenize.word_tokenize(text)\n",
    "        \n",
    "        words_nstop = [w for w in words if w.lower() not in stopwords.words('english')]\n",
    "        words_npun = [w for w in words_nstop if w not in string.punctuation]\n",
    "        words_nstem = [snowball.stem(w) for w in words_npun]\n",
    "        \n",
    "        sents = nltk.tokenize.sent_tokenize(acts[j])\n",
    "        \n",
    "        works[act_title] = {\"words_all\": words, \"words_nonStemmed\": words_nstem, \"sentences\": sents, \"text\": text}\n",
    "\n",
    "titles = works.keys()"
   ]
  },
  {
   "cell_type": "code",
   "execution_count": 2,
   "metadata": {
    "collapsed": true
   },
   "outputs": [],
   "source": [
    "import json\n",
    "with open('works_v1025.json', 'w') as f:    \n",
    "    json.dump(works, f)\n",
    "f.close()"
   ]
  },
  {
   "cell_type": "code",
   "execution_count": 4,
   "metadata": {
    "collapsed": false
   },
   "outputs": [],
   "source": [
    "import json\n",
    "\n",
    "with open('works.json', 'r') as f:\n",
    "    try:\n",
    "        works = json.load(f)\n",
    "    # if the file is empty the ValueError will be thrown\n",
    "    except ValueError:\n",
    "        works = {}\n",
    "\n",
    "titles = works.keys()"
   ]
  }
 ],
 "metadata": {
  "kernelspec": {
   "display_name": "Python 3",
   "language": "python",
   "name": "python3"
  },
  "language_info": {
   "codemirror_mode": {
    "name": "ipython",
    "version": 3
   },
   "file_extension": ".py",
   "mimetype": "text/x-python",
   "name": "python",
   "nbconvert_exporter": "python",
   "pygments_lexer": "ipython3",
   "version": "3.4.3"
  }
 },
 "nbformat": 4,
 "nbformat_minor": 0
}
