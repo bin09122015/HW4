{
 "cells": [
  {
   "cell_type": "code",
   "execution_count": 5,
   "metadata": {
    "collapsed": false
   },
   "outputs": [
    {
     "name": "stdout",
     "output_type": "stream",
     "text": [
      "0 / 3\n",
      "1 / 3\n",
      "2 / 3\n",
      "dict_keys(['THE TRAGEDY OF ANTONY AND CLEOPATRA ACT III', 'THE TRAGEDY OF ANTONY AND CLEOPATRA ACT IV.', 'THE TRAGEDY OF ANTONY AND CLEOPATRA ACT V. ', 'ALLS WELL THAT ENDS WELL ACT I. ', 'ALLS WELL THAT ENDS WELL ACT V. ', 'ALLS WELL THAT ENDS WELL ACT IV.', 'THE SONNETS ACT1609', 'THE TRAGEDY OF ANTONY AND CLEOPATRA ACT_3|S', 'THE TRAGEDY OF ANTONY AND CLEOPATRA ACT_5|S', 'THE TRAGEDY OF ANTONY AND CLEOPATRA ACT_2|S', 'ALLS WELL THAT ENDS WELL ACT1603', 'THE TRAGEDY OF ANTONY AND CLEOPATRA ACT I. ', 'ALLS WELL THAT ENDS WELL ACT IV ', 'THE TRAGEDY OF ANTONY AND CLEOPATRA ACT_4|S', 'ALLS WELL THAT ENDS WELL ACT III', 'ALLS WELL THAT ENDS WELL ACT II.', 'THE TRAGEDY OF ANTONY AND CLEOPATRA ACT II.', 'ALLS WELL THAT ENDS WELL ACT V S', 'THE TRAGEDY OF ANTONY AND CLEOPATRA ACT1607'])\n"
     ]
    }
   ],
   "source": [
    "import nltk\n",
    "from nltk.corpus import stopwords\n",
    "import string\n",
    "\n",
    "snowball = nltk.SnowballStemmer('english')\n",
    "\n",
    "works = {}\n",
    "titles = []\n",
    "\n",
    "total = 38\n",
    "\n",
    "for i in range(total):\n",
    "    filename = str(i+1)+\".txt\"\n",
    "    file = open(filename, \"r\")\n",
    "    text = file.read()\n",
    "    file.close()\n",
    "\n",
    "    f = open(filename, \"r\")\n",
    "    for _ in range(2):\n",
    "        next(f) \n",
    "    title = f.readline().strip('\\n')\n",
    "    f.close() \n",
    "    \n",
    "    acts = text.split('ACT')\n",
    "    \n",
    "    print (i, '/', total)\n",
    "    \n",
    "    for j in range(len(acts)):\n",
    "        act_title = title + \" ACT\" + acts[j][0:4]\n",
    "        titles.append(act_title)\n",
    "        words = nltk.tokenize.word_tokenize(acts[j])\n",
    "        \n",
    "        words_nstop = [w for w in words if w.lower() not in stopwords.words('english')]\n",
    "        words_npun = [w for w in words_nstop if w not in string.punctuation]\n",
    "        words_nstem = [snowball.stem(w) for w in words_npun]\n",
    "        \n",
    "        works[act_title] = words_nstem\n",
    "\n",
    "print (works.keys())\n"
   ]
  },
  {
   "cell_type": "code",
   "execution_count": 6,
   "metadata": {
    "collapsed": false
   },
   "outputs": [
    {
     "data": {
      "text/plain": [
       "[('antoni', 32),\n",
       " ('cleopatra', 27),\n",
       " (\"'d\", 22),\n",
       " ('caesar', 22),\n",
       " (\"'s\", 20),\n",
       " ('thyreus', 14),\n",
       " ('thou', 13),\n",
       " ('enobarbus', 12),\n",
       " ('servant', 8),\n",
       " ('lord', 8),\n",
       " ('yet', 7),\n",
       " ('make', 7),\n",
       " ('know', 6),\n",
       " ('would', 6),\n",
       " ('shall', 6),\n",
       " ('o', 6),\n",
       " ('thi', 6),\n",
       " ('say', 6),\n",
       " ('ll', 6),\n",
       " ('let', 6),\n",
       " ('enter', 5),\n",
       " ('hand', 5),\n",
       " ('like', 5),\n",
       " ('one', 5),\n",
       " ('heart', 5),\n",
       " ('upon', 5),\n",
       " ('tell', 5),\n",
       " ('us', 5),\n",
       " ('follow', 5),\n",
       " ('euphronius', 5),\n",
       " ('thee', 4),\n",
       " ('see', 4),\n",
       " (\"n't\", 4),\n",
       " ('sword', 4),\n",
       " ('whip', 4),\n",
       " ('sir', 4),\n",
       " ('take', 4),\n",
       " (\"'t\", 4),\n",
       " ('hear', 4),\n",
       " ('may', 4),\n",
       " ('th', 4),\n",
       " ('asid', 4),\n",
       " ('exit', 4),\n",
       " ('god', 4),\n",
       " ('whipt', 4),\n",
       " ('till', 3),\n",
       " ('sinc', 3),\n",
       " ('time', 3),\n",
       " ('answer', 3),\n",
       " ('fight', 3)]"
      ]
     },
     "execution_count": 6,
     "metadata": {},
     "output_type": "execute_result"
    }
   ],
   "source": [
    "from nltk import FreqDist\n",
    "\n",
    "def getFreqDist(words):\n",
    "    nltk_text = nltk.Text(words)\n",
    "    \n",
    "    return FreqDist(nltk_text)\n",
    "\n",
    "getFreqDist(works['THE TRAGEDY OF ANTONY AND CLEOPATRA ACT_3|S']).most_common(50)\n"
   ]
  },
  {
   "cell_type": "code",
   "execution_count": 7,
   "metadata": {
    "collapsed": false
   },
   "outputs": [
    {
     "name": "stdout",
     "output_type": "stream",
     "text": [
      "390\n"
     ]
    }
   ],
   "source": [
    "def getCountFrequency(words, freq):\n",
    "    nltk_text = nltk.Text(words)\n",
    "    freq_dist = FreqDist(nltk_text)\n",
    "    \n",
    "    count = 0\n",
    "    for key,value in freq_dist.items():\n",
    "        if value == freq:\n",
    "            count += 1\n",
    "    \n",
    "    return count    \n",
    "\n",
    "def getHapaxLegomena(words):\n",
    "    return getCountFrequency(words, 1)\n",
    "\n",
    "print (getHapaxLegomena(works['THE TRAGEDY OF ANTONY AND CLEOPATRA ACT_3|S']))\n"
   ]
  },
  {
   "cell_type": "code",
   "execution_count": 8,
   "metadata": {
    "collapsed": false
   },
   "outputs": [
    {
     "name": "stdout",
     "output_type": "stream",
     "text": [
      "78\n"
     ]
    }
   ],
   "source": [
    "def getDisLegomena(words):\n",
    "    return getCountFrequency(words, 2)\n",
    "\n",
    "print (getDisLegomena(works['THE TRAGEDY OF ANTONY AND CLEOPATRA ACT_3|S']))\n"
   ]
  },
  {
   "cell_type": "code",
   "execution_count": 9,
   "metadata": {
    "collapsed": false
   },
   "outputs": [
    {
     "name": "stdout",
     "output_type": "stream",
     "text": [
      "542\n"
     ]
    }
   ],
   "source": [
    "def getNumberUniqueWords(words):\n",
    "    return len(getFreqDist(words))\n",
    "\n",
    "print (getNumberUniqueWords(works['THE TRAGEDY OF ANTONY AND CLEOPATRA ACT_3|S']))\n"
   ]
  },
  {
   "cell_type": "code",
   "execution_count": null,
   "metadata": {
    "collapsed": true
   },
   "outputs": [],
   "source": []
  }
 ],
 "metadata": {
  "kernelspec": {
   "display_name": "Python 3",
   "language": "python",
   "name": "python3"
  },
  "language_info": {
   "codemirror_mode": {
    "name": "ipython",
    "version": 3
   },
   "file_extension": ".py",
   "mimetype": "text/x-python",
   "name": "python",
   "nbconvert_exporter": "python",
   "pygments_lexer": "ipython3",
   "version": "3.4.3"
  }
 },
 "nbformat": 4,
 "nbformat_minor": 0
}
