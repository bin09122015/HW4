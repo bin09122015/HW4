{
 "cells": [
  {
   "cell_type": "code",
   "execution_count": 1,
   "metadata": {
    "collapsed": true
   },
   "outputs": [],
   "source": [
    "import nltk"
   ]
  },
  {
   "cell_type": "code",
   "execution_count": 2,
   "metadata": {
    "collapsed": false
   },
   "outputs": [
    {
     "name": "stdout",
     "output_type": "stream",
     "text": [
      "5447162\n",
      "1129113\n"
     ]
    }
   ],
   "source": [
    "shakespeare = open(\"shakespeare.txt\", \"r\")\n",
    "text = shakespeare.read()\n",
    "shakespeare.close()\n",
    "\n",
    "print (len(text))\n",
    "\n",
    "# nltk.tokenize will take a long time to run\n",
    "words = nltk.tokenize.word_tokenize(text)\n",
    "\n",
    "print (len(words))\n"
   ]
  },
  {
   "cell_type": "code",
   "execution_count": 17,
   "metadata": {
    "collapsed": false
   },
   "outputs": [],
   "source": [
    "\"\"\"Used to split shakespeare.txt into separate works, Don't run it again, it will overwrite txt files.\n",
    "shakespeare = open(\"shakespeare.txt\", \"r\")\n",
    "lines = shakespeare.readlines()\n",
    "shakespeare.close()\n",
    "\n",
    "new_file = open(\"0.txt\", \"w\")\n",
    "count = 0\n",
    "for index, line in enumerate(lines):\n",
    "    if len(line.strip()) == 4 and line.strip().isdigit():\n",
    "        new_file.close()\n",
    "        count += 1\n",
    "        new_file = open(str(count)+\".txt\", \"w\")\n",
    "        new_file.write(line)\n",
    "    else:\n",
    "        new_file.write(line)\n",
    "\n",
    "new_file.close()\n",
    "\"\"\""
   ]
  }
 ],
 "metadata": {
  "kernelspec": {
   "display_name": "Python 3",
   "language": "python",
   "name": "python3"
  },
  "language_info": {
   "codemirror_mode": {
    "name": "ipython",
    "version": 3
   },
   "file_extension": ".py",
   "mimetype": "text/x-python",
   "name": "python",
   "nbconvert_exporter": "python",
   "pygments_lexer": "ipython3",
   "version": "3.4.3"
  }
 },
 "nbformat": 4,
 "nbformat_minor": 0
}
