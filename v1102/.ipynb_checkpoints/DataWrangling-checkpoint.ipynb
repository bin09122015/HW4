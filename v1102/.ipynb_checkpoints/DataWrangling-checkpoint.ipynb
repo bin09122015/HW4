{
 "cells": [
  {
   "cell_type": "code",
   "execution_count": 1,
   "metadata": {
    "collapsed": true
   },
   "outputs": [],
   "source": [
    "import nltk\n",
    "from nltk.corpus import stopwords\n",
    "import string"
   ]
  },
  {
   "cell_type": "code",
   "execution_count": 2,
   "metadata": {
    "collapsed": false
   },
   "outputs": [
    {
     "name": "stdout",
     "output_type": "stream",
     "text": [
      "5465100\n"
     ]
    }
   ],
   "source": [
    "shakespeare = open(\"pg100.txt\", \"r\")\n",
    "text = shakespeare.read()\n",
    "shakespeare.close()\n",
    "\n",
    "print (len(text))\n",
    "\n",
    "# nltk.tokenize will take a long time to run\n",
    "# words = nltk.tokenize.word_tokenize(text)\n",
    "\n",
    "# print (len(words))\n"
   ]
  },
  {
   "cell_type": "code",
   "execution_count": null,
   "metadata": {
    "collapsed": false
   },
   "outputs": [],
   "source": [
    "#Used to split pg100.txt into separate works, Don't run it again, it will overwrite txt files.\n",
    "shakespeare = open(\"pg100.txt\", \"r\")\n",
    "lines = shakespeare.readlines()\n",
    "shakespeare.close()\n",
    "\n",
    "copyright_list = ['<<THIS', 'SHAKESPEARE IS COPYRIGHT', 'PROVIDED BY PROJECT GUTENBERG', 'WITH PERMISSION.',\n",
    "                  'DISTRIBUTED SO LONG AS', 'PERSONAL USE ONLY,', 'COMMERCIALLY.', 'SERVICE THAT CHARGES FOR DOWNLOAD']\n",
    "\n",
    "new_file = open(\"0.txt\", \"w\")\n",
    "count = 0\n",
    "saw_year = False\n",
    "for index, line in enumerate(lines):\n",
    "    if len(line.strip()) == 4 and line.strip().isdigit():\n",
    "        new_file.close()\n",
    "        count += 1\n",
    "        new_file = open(str(count)+\".txt\", \"w\")\n",
    "        new_file.write(line)\n",
    "        saw_year = True\n",
    "    elif line.strip() == 'THE END':\n",
    "        saw_year = False\n",
    "    elif line.strip() != '' and saw_year:\n",
    "        write_new_line = True\n",
    "        for cr in copyright_list:\n",
    "            if line.startswith(cr):\n",
    "                write_new_line = False\n",
    "                break\n",
    "        if write_new_line:\n",
    "            new_file.write(line)\n",
    "\n",
    "new_file.close()\n"
   ]
  },
  {
   "cell_type": "code",
   "execution_count": null,
   "metadata": {
    "collapsed": false
   },
   "outputs": [
    {
     "name": "stdout",
     "output_type": "stream",
     "text": [
      "1 / 38\n",
      "2 / 38\n",
      "3 / 38\n",
      "4"
     ]
    }
   ],
   "source": [
    "snowball = nltk.SnowballStemmer('english')\n",
    "\n",
    "works = {}\n",
    "\n",
    "total = 38\n",
    "\n",
    "for i in range(total):\n",
    "    filename = str(i+1)+\".txt\"\n",
    "    file = open(filename, \"r\")\n",
    "    text = file.read()\n",
    "    file.close()\n",
    "\n",
    "    f = open(filename, \"r\")\n",
    "    for _ in range(1):\n",
    "        next(f) \n",
    "    title = f.readline().strip('\\n')\n",
    "    f.close() \n",
    "    \n",
    "    acts = text.split('ACT')\n",
    "    \n",
    "    print (i+1, '/', total)\n",
    "    \n",
    "    for j in range(len(acts)):\n",
    "        act_title = title + \" ACT\" + acts[j][0:4]\n",
    "        text = acts[j]\n",
    "        words = nltk.tokenize.word_tokenize(text)\n",
    "        \n",
    "        words = [w.lower() for w in words]\n",
    "        \n",
    "        words_nstop = [w for w in words if w.lower() not in stopwords.words('english')]\n",
    "        words_npun = [w for w in words_nstop if w not in string.punctuation]\n",
    "        words_nstem = [snowball.stem(w) for w in words_npun]\n",
    "        \n",
    "        sents = nltk.tokenize.sent_tokenize(acts[j])\n",
    "        \n",
    "        works[act_title] = {\"words_all\": words, \"words_nonStemmed\": words_nstem, \"sentences\": sents, \"text\": text, \"filename\": filename}\n",
    "\n",
    "titles = works.keys()\n"
   ]
  },
  {
   "cell_type": "code",
   "execution_count": null,
   "metadata": {
    "collapsed": true
   },
   "outputs": [],
   "source": [
    "import json\n",
    "with open('works.json', 'w') as f:    \n",
    "    json.dump(works, f)\n",
    "f.close()\n"
   ]
  },
  {
   "cell_type": "code",
   "execution_count": null,
   "metadata": {
    "collapsed": true
   },
   "outputs": [],
   "source": []
  }
 ],
 "metadata": {
  "kernelspec": {
   "display_name": "Python 3",
   "language": "python",
   "name": "python3"
  },
  "language_info": {
   "codemirror_mode": {
    "name": "ipython",
    "version": 3
   },
   "file_extension": ".py",
   "mimetype": "text/x-python",
   "name": "python",
   "nbconvert_exporter": "python",
   "pygments_lexer": "ipython3",
   "version": "3.4.3"
  }
 },
 "nbformat": 4,
 "nbformat_minor": 0
}
