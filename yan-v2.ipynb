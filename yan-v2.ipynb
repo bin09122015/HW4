{
 "cells": [
  {
   "cell_type": "code",
   "execution_count": 1,
   "metadata": {
    "collapsed": false
   },
   "outputs": [
    {
     "name": "stdout",
     "output_type": "stream",
     "text": [
      "0 / 38\n",
      "1 / 38\n",
      "2 / 38\n",
      "3 / 38\n",
      "4 / 38\n",
      "5 / 38\n",
      "6 / 38\n",
      "7 / 38\n",
      "8 / 38\n",
      "9 / 38\n",
      "10 / 38\n",
      "11 / 38\n",
      "12 / 38\n",
      "13 / 38\n",
      "14 / 38\n",
      "15 / 38\n",
      "16 / 38\n",
      "17 / 38\n",
      "18 / 38\n",
      "19 / 38\n",
      "20 / 38\n",
      "21 / 38\n",
      "22 / 38\n",
      "23 / 38\n",
      "24 / 38\n",
      "25 / 38\n",
      "26 / 38\n",
      "27 / 38\n",
      "28 / 38\n",
      "29 / 38\n",
      "30 / 38\n",
      "31 / 38\n",
      "32 / 38\n",
      "33 / 38\n",
      "34 / 38\n",
      "35 / 38\n",
      "36 / 38\n",
      "37 / 38\n",
      "dict_keys(['MUCH ADO ABOUT NOTHING ACT1599', 'THE TRAGEDY OF MACBETH ACT I. ', 'THE TEMPEST ACT V. ', 'KING HENRY THE EIGHTH ACT V. ', 'THE FIRST PART OF HENRY THE SIXTH ACT V. ', 'THE MERRY WIVES OF WINDSOR ACT V. ', 'CYMBELINE ACT V. ', 'THE HISTORY OF TROILUS AND CRESSIDA ACT I. ', \"A MIDSUMMER NIGHT'S DREAM ACT I. \", \"A MIDSUMMER NIGHT'S DREAM ACT IV.\", 'THE SECOND PART OF KING HENRY THE SIXTH ACT IV.', 'KING RICHARD III ACT II.', 'KING RICHARD THE SECOND ACT III', 'KING HENRY THE EIGHTH ACT I. ', 'THE HISTORY OF TROILUS AND CRESSIDA ACT III', 'THE FIRST PART OF KING HENRY THE FOURTH ACT IV.', 'THE TRAGEDY OF ROMEO AND JULIET ACT IV.', 'THE TRAGEDY OF ANTONY AND CLEOPATRA ACT_2|S', 'THE SECOND PART OF KING HENRY THE SIXTH ACT V. ', 'SECOND PART OF KING HENRY IV ACT IV.', 'THE THIRD PART OF KING HENRY THE SIXTH ACT IV.', \"THE WINTER'S TALE ACT I. \", 'THE TWO GENTLEMEN OF VERONA ACT V. ', 'THE SECOND PART OF KING HENRY THE SIXTH ACT1591', 'CYMBELINE ACT1609', 'THE TRAGEDY OF MACBETH ACT V. ', 'THE TRAGEDY OF KING LEAR ACT1606', 'TWELFTH NIGHT; OR, WHAT YOU WILL ACT V. ', 'THE TRAGEDY OF ROMEO AND JULIET ACT III', 'THE TRAGEDY OF HAMLET, PRINCE OF DENMARK ACT I. ', 'THE TRAGEDY OF JULIUS CAESAR ACT V. ', 'KING RICHARD III ACT III', 'MEASURE FOR MEASURE ACT V. ', 'THE MERCHANT OF VENICE ACT1597', 'SECOND PART OF KING HENRY IV ACT V. ', 'KING HENRY THE EIGHTH ACT IV.', \"A MIDSUMMER NIGHT'S DREAM ACT II.\", 'THE TRAGEDY OF MACBETH ACT IV.', \"LOVE'S LABOUR'S LOST ACT IV.\", 'THE FIRST PART OF HENRY THE SIXTH ACT1592', 'KING JOHN ACT V. ', 'THE TWO GENTLEMEN OF VERONA ACT_4|S', 'TWELFTH NIGHT; OR, WHAT YOU WILL ACT I. ', 'CYMBELINE ACT IV.', 'THE TRAGEDY OF CORIOLANUS ACT V. ', \"THE WINTER'S TALE ACT1611\", 'CYMBELINE ACT I. ', 'THE TRAGEDY OF ANTONY AND CLEOPATRA ACT III', 'THE FIRST PART OF KING HENRY THE FOURTH ACT1598', 'THE TRAGEDY OF KING LEAR ACT III', 'SECOND PART OF KING HENRY IV ACT I. ', 'MEASURE FOR MEASURE ACT III', 'THE TRAGEDY OF HAMLET, PRINCE OF DENMARK ACT IV.', 'THE COMEDY OF ERRORS ACT IV.', 'ALLS WELL THAT ENDS WELL ACT V. ', 'ALLS WELL THAT ENDS WELL ACT IV ', 'THE TAMING OF THE SHREW ACT V. ', 'TWELFTH NIGHT; OR, WHAT YOU WILL ACT III', 'THE MERRY WIVES OF WINDSOR ACT III', 'THE FIRST PART OF HENRY THE SIXTH ACT III', 'THE HISTORY OF TROILUS AND CRESSIDA ACT V. ', 'KING RICHARD THE SECOND ACT II.', 'AS YOU LIKE IT ACT I. ', 'THE LIFE OF KING HENRY THE FIFTH ACT III', 'KING RICHARD III ACT V. ', 'THE TRAGEDY OF OTHELLO, MOOR OF VENICE ACT III', 'KING RICHARD III ACT IV.', 'THE COMEDY OF ERRORS ACT1593', 'AS YOU LIKE IT ACT V. ', 'THE TRAGEDY OF MACBETH ACT II.', 'THE MERRY WIVES OF WINDSOR ACT II.', 'THE TRAGEDY OF ROMEO AND JULIET ACT V. ', 'ALLS WELL THAT ENDS WELL ACT II.', 'THE TRAGEDY OF TITUS ANDRONICUS ACT II.', 'KING JOHN ACT1597', 'THE TRAGEDY OF JULIUS CAESAR ACT III', \"A MIDSUMMER NIGHT'S DREAM ACT V. \", 'THE THIRD PART OF KING HENRY THE SIXTH ACT1591', 'MUCH ADO ABOUT NOTHING ACT IV.', \"LOVE'S LABOUR'S LOST ACT II.\", 'THE TRAGEDY OF CORIOLANUS ACT1608', 'THE MERCHANT OF VENICE ACT II.', 'KING RICHARD III ACT1593', 'THE TEMPEST ACT1612', 'THE LIFE OF TIMON OF ATHENS ACT II.', 'MUCH ADO ABOUT NOTHING ACT III', 'TWELFTH NIGHT; OR, WHAT YOU WILL ACT II.', \"A LOVER'S COMPLAINT ACT1609\", 'THE TRAGEDY OF MACBETH ACT III', 'THE MERCHANT OF VENICE ACT IV.', 'THE TRAGEDY OF TITUS ANDRONICUS ACT1594', 'THE SECOND PART OF KING HENRY THE SIXTH ACT III', 'THE THIRD PART OF KING HENRY THE SIXTH ACT V. ', 'THE TRAGEDY OF OTHELLO, MOOR OF VENICE ACT I. ', 'THE TAMING OF THE SHREW ACT IV.', 'THE MERRY WIVES OF WINDSOR ACT I. ', \"LOVE'S LABOUR'S LOST ACT I. \", 'THE TRAGEDY OF HAMLET, PRINCE OF DENMARK ACT III', \"A MIDSUMMER NIGHT'S DREAM ACT1596\", 'THE TRAGEDY OF KING LEAR ACT II.', 'THE TRAGEDY OF ANTONY AND CLEOPATRA ACT II.', 'ALLS WELL THAT ENDS WELL ACT III', 'MUCH ADO ABOUT NOTHING ACT V. ', 'THE MERCHANT OF VENICE ACT III', 'THE HISTORY OF TROILUS AND CRESSIDA ACT II.', 'KING RICHARD THE SECOND ACT I. ', \"LOVE'S LABOUR'S LOST ACT III\", 'THE TRAGEDY OF TITUS ANDRONICUS ACT 1. ', 'THE COMEDY OF ERRORS ACT V. ', 'THE SECOND PART OF KING HENRY THE SIXTH ACT II.', 'MUCH ADO ABOUT NOTHING ACT II.', 'THE FIRST PART OF HENRY THE SIXTH ACT II.', 'THE TRAGEDY OF CORIOLANUS ACT IV.', 'THE THIRD PART OF KING HENRY THE SIXTH ACT II.', 'THE MERCHANT OF VENICE ACT I. ', 'THE TRAGEDY OF ANTONY AND CLEOPATRA ACT1607', 'THE LIFE OF KING HENRY THE FIFTH ACT I. ', 'AS YOU LIKE IT ACT III', 'THE TRAGEDY OF JULIUS CAESAR ACT IV.', 'THE THIRD PART OF KING HENRY THE SIXTH ACT III', 'ALLS WELL THAT ENDS WELL ACT1603', 'KING JOHN ACT II.', 'THE LIFE OF KING HENRY THE FIFTH ACT1599', 'THE TWO GENTLEMEN OF VERONA ACT1595', 'KING HENRY THE EIGHTH ACT II.', 'SECOND PART OF KING HENRY IV ACT II.', 'THE TRAGEDY OF HAMLET, PRINCE OF DENMARK ACT1604', 'THE COMEDY OF ERRORS ACT III', 'THE TEMPEST ACT II.', 'THE TEMPEST ACT I. ', 'THE FIRST PART OF KING HENRY THE FOURTH ACT V. ', 'THE COMEDY OF ERRORS ACT I. ', 'THE LIFE OF TIMON OF ATHENS ACT V. ', 'THE FIRST PART OF KING HENRY THE FOURTH ACT III', 'AS YOU LIKE IT ACT IV.', 'THE FIRST PART OF KING HENRY THE FOURTH ACT I. ', \"THE WINTER'S TALE ACT II.\", 'THE TRAGEDY OF TITUS ANDRONICUS ACT III', 'AS YOU LIKE IT ACT II.', 'THE TAMING OF THE SHREW ACT I. ', 'THE TRAGEDY OF HAMLET, PRINCE OF DENMARK ACT V. ', 'KING RICHARD III ACT I. ', 'THE TRAGEDY OF ANTONY AND CLEOPATRA ACT_3|S', 'THE HISTORY OF TROILUS AND CRESSIDA ACT1602', 'THE SECOND PART OF KING HENRY THE SIXTH ACT I. ', 'THE FIRST PART OF HENRY THE SIXTH ACT IV.', 'THE LIFE OF TIMON OF ATHENS ACT III', 'THE TRAGEDY OF ANTONY AND CLEOPATRA ACT I. ', 'THE TEMPEST ACT III', \"THE WINTER'S TALE ACT IV.\", 'THE MERCHANT OF VENICE ACT V. ', 'THE TRAGEDY OF CORIOLANUS ACT I. ', 'KING JOHN ACT IV.', 'THE TRAGEDY OF ANTONY AND CLEOPATRA ACT_5|S', 'THE TWO GENTLEMEN OF VERONA ACT III', 'AS YOU LIKE IT ACT1601', 'SECOND PART OF KING HENRY IV ACT III', 'THE TRAGEDY OF TITUS ANDRONICUS ACT IV.', 'THE TRAGEDY OF ANTONY AND CLEOPATRA ACT V. ', \"LOVE'S LABOUR'S LOST ACT1595\", 'THE TRAGEDY OF ROMEO AND JULIET ACT I. ', 'TWELFTH NIGHT; OR, WHAT YOU WILL ACT1602', 'MUCH ADO ABOUT NOTHING ACT I. ', 'THE LIFE OF TIMON OF ATHENS ACT IV.', 'KING RICHARD THE SECOND ACT1596', 'THE HISTORY OF TROILUS AND CRESSIDA ACT IV.', 'CYMBELINE ACT II.', 'THE TRAGEDY OF MACBETH ACT1606', 'THE TRAGEDY OF JULIUS CAESAR ACT I. ', 'TWELFTH NIGHT; OR, WHAT YOU WILL ACT IV.', 'THE TAMING OF THE SHREW ACT1594', 'THE TAMING OF THE SHREW ACT Il.', 'KING JOHN ACT I. ', 'THE TRAGEDY OF ANTONY AND CLEOPATRA ACT_4|S', \"THE WINTER'S TALE ACT V. \", 'THE TRAGEDY OF OTHELLO, MOOR OF VENICE ACT IV.', 'KING HENRY THE EIGHTH ACT1611', 'THE TRAGEDY OF OTHELLO, MOOR OF VENICE ACT II.', 'THE TEMPEST ACT IV.', 'THE THIRD PART OF KING HENRY THE SIXTH ACT I. ', 'THE FIRST PART OF HENRY THE SIXTH ACT I. ', 'THE MERRY WIVES OF WINDSOR ACT1601', 'THE LIFE OF KING HENRY THE FIFTH ACT IV.', 'THE SONNETS ACT1609', 'THE LIFE OF TIMON OF ATHENS ACT I. ', 'THE FIRST PART OF KING HENRY THE FOURTH ACT II.', 'THE TRAGEDY OF ROMEO AND JULIET ACT1595', 'THE TRAGEDY OF CORIOLANUS ACT II.', 'THE TRAGEDY OF OTHELLO, MOOR OF VENICE ACT V. ', 'THE TRAGEDY OF JULIUS CAESAR ACT II.', \"LOVE'S LABOUR'S LOST ACT V. \", 'THE TRAGEDY OF ANTONY AND CLEOPATRA ACT IV.', 'THE TRAGEDY OF TITUS ANDRONICUS ACT V. ', 'THE TRAGEDY OF KING LEAR ACT V. ', 'THE TWO GENTLEMEN OF VERONA ACT IV.', 'THE LIFE OF KING HENRY THE FIFTH ACT V. ', 'THE TRAGEDY OF JULIUS CAESAR ACT1599', 'ALLS WELL THAT ENDS WELL ACT I. ', 'THE LIFE OF TIMON OF ATHENS ACT1608', 'ALLS WELL THAT ENDS WELL ACT IV.', 'CYMBELINE ACT III', 'MEASURE FOR MEASURE ACT1605', 'THE LIFE OF KING HENRY THE FIFTH ACT II.', 'KING JOHN ACT III', 'KING HENRY THE EIGHTH ACT III', 'THE TWO GENTLEMEN OF VERONA ACT I. ', \"THE WINTER'S TALE ACT III\", 'THE TRAGEDY OF KING LEAR ACT IV.', 'THE TAMING OF THE SHREW ACT III', 'THE TRAGEDY OF KING LEAR ACT I. ', 'THE COMEDY OF ERRORS ACT Il.', 'THE TRAGEDY OF ROMEO AND JULIET ACT II.', 'THE TRAGEDY OF CORIOLANUS ACT III', 'MEASURE FOR MEASURE ACT II.', 'MEASURE FOR MEASURE ACT I. ', 'ALLS WELL THAT ENDS WELL ACT V S', 'THE TRAGEDY OF OTHELLO, MOOR OF VENICE ACT1605', 'KING RICHARD THE SECOND ACT V. ', 'THE TWO GENTLEMEN OF VERONA ACT II.', 'SECOND PART OF KING HENRY IV ACT1598', 'THE MERRY WIVES OF WINDSOR ACT IV.', 'KING RICHARD THE SECOND ACT IV.', \"A MIDSUMMER NIGHT'S DREAM ACT III\"])\n"
     ]
    }
   ],
   "source": [
    "import nltk\n",
    "from nltk.corpus import stopwords\n",
    "import string\n",
    "\n",
    "snowball = nltk.SnowballStemmer('english')\n",
    "\n",
    "works = {}\n",
    "\n",
    "total = 38\n",
    "\n",
    "for i in range(total):\n",
    "    filename = str(i+1)+\".txt\"\n",
    "    file = open(filename, \"r\")\n",
    "    text = file.read()\n",
    "    file.close()\n",
    "\n",
    "    f = open(filename, \"r\")\n",
    "    for _ in range(2):\n",
    "        next(f) \n",
    "    title = f.readline().strip('\\n')\n",
    "    f.close() \n",
    "    \n",
    "    acts = text.split('ACT')\n",
    "    \n",
    "    print (i, '/', total)\n",
    "    \n",
    "    for j in range(len(acts)):\n",
    "        act_title = title + \" ACT\" + acts[j][0:4]\n",
    "        words = nltk.tokenize.word_tokenize(acts[j])\n",
    "        \n",
    "        words_nstop = [w for w in words if w.lower() not in stopwords.words('english')]\n",
    "        words_npun = [w for w in words_nstop if w not in string.punctuation]\n",
    "        words_nstem = [snowball.stem(w) for w in words_npun]\n",
    "        \n",
    "        sents = nltk.tokenize.sent_tokenize(acts[j])\n",
    "        \n",
    "        works[act_title] = (words_nstem, sents)\n",
    "\n",
    "titles = works.keys()\n",
    "\n",
    "print (titles)"
   ]
  },
  {
   "cell_type": "code",
   "execution_count": 2,
   "metadata": {
    "collapsed": true
   },
   "outputs": [],
   "source": [
    "import json\n",
    "with open('works.json', 'w') as f:    \n",
    "    json.dump(works, f)\n",
    "f.close()"
   ]
  },
  {
   "cell_type": "code",
   "execution_count": 4,
   "metadata": {
    "collapsed": false
   },
   "outputs": [],
   "source": [
    "import json\n",
    "\n",
    "with open('works.json', 'r') as f:\n",
    "    try:\n",
    "        works = json.load(f)\n",
    "    # if the file is empty the ValueError will be thrown\n",
    "    except ValueError:\n",
    "        works = {}\n",
    "\n",
    "titles = works.keys()"
   ]
  },
  {
   "cell_type": "code",
   "execution_count": 5,
   "metadata": {
    "collapsed": false
   },
   "outputs": [
    {
     "data": {
      "text/plain": [
       "[('antoni', 32),\n",
       " ('cleopatra', 27),\n",
       " (\"'d\", 22),\n",
       " ('caesar', 22),\n",
       " (\"'s\", 20),\n",
       " ('thyreus', 14),\n",
       " ('thou', 13),\n",
       " ('enobarbus', 12),\n",
       " ('lord', 8),\n",
       " ('servant', 8),\n",
       " ('make', 7),\n",
       " ('yet', 7),\n",
       " ('shall', 6),\n",
       " ('ll', 6),\n",
       " ('let', 6),\n",
       " ('know', 6),\n",
       " ('o', 6),\n",
       " ('say', 6),\n",
       " ('would', 6),\n",
       " ('thi', 6),\n",
       " ('upon', 5),\n",
       " ('euphronius', 5),\n",
       " ('heart', 5),\n",
       " ('hand', 5),\n",
       " ('one', 5),\n",
       " ('us', 5),\n",
       " ('enter', 5),\n",
       " ('like', 5),\n",
       " ('tell', 5),\n",
       " ('follow', 5),\n",
       " ('whipt', 4),\n",
       " (\"n't\", 4),\n",
       " ('asid', 4),\n",
       " ('hear', 4),\n",
       " ('see', 4),\n",
       " (\"'t\", 4),\n",
       " ('may', 4),\n",
       " ('th', 4),\n",
       " ('sword', 4),\n",
       " ('whip', 4),\n",
       " ('exit', 4),\n",
       " ('take', 4),\n",
       " ('sir', 4),\n",
       " ('god', 4),\n",
       " ('thee', 4),\n",
       " ('mine', 3),\n",
       " ('look', 3),\n",
       " ('hast', 3),\n",
       " ('friend', 3),\n",
       " ('cri', 3)]"
      ]
     },
     "execution_count": 5,
     "metadata": {},
     "output_type": "execute_result"
    }
   ],
   "source": [
    "from nltk import FreqDist\n",
    "\n",
    "def getFreqDist(words):\n",
    "    nltk_text = nltk.Text(words)\n",
    "    \n",
    "    return FreqDist(nltk_text)\n",
    "\n",
    "getFreqDist(works['THE TRAGEDY OF ANTONY AND CLEOPATRA ACT_3|S'][0]).most_common(50)"
   ]
  },
  {
   "cell_type": "code",
   "execution_count": null,
   "metadata": {
    "collapsed": true
   },
   "outputs": [],
   "source": [
    "def getCountFrequency(words, freq):\n",
    "    nltk_text = nltk.Text(words)\n",
    "    freq_dist = FreqDist(nltk_text)\n",
    "    \n",
    "    count = 0\n",
    "    for key,value in freq_dist.items():\n",
    "        if value == freq:\n",
    "            count += 1\n",
    "    \n",
    "    return count    \n",
    "\n",
    "def getHapaxLegomena(words):\n",
    "    return getCountFrequency(words, 1)\n",
    "\n",
    "print (getHapaxLegomena(works['THE TRAGEDY OF ANTONY AND CLEOPATRA ACT_3|S'][0]))"
   ]
  },
  {
   "cell_type": "code",
   "execution_count": null,
   "metadata": {
    "collapsed": true
   },
   "outputs": [],
   "source": [
    "def getDisLegomena(words):\n",
    "    return getCountFrequency(words, 2)\n",
    "\n",
    "print (getDisLegomena(works['THE TRAGEDY OF ANTONY AND CLEOPATRA ACT_3|S'][0]))"
   ]
  },
  {
   "cell_type": "code",
   "execution_count": null,
   "metadata": {
    "collapsed": true
   },
   "outputs": [],
   "source": [
    "def getNumberUniqueWords(words):\n",
    "    return len(getFreqDist(words))\n",
    "\n",
    "print (getNumberUniqueWords(works['THE TRAGEDY OF ANTONY AND CLEOPATRA ACT_3|S'][0]))"
   ]
  },
  {
   "cell_type": "code",
   "execution_count": null,
   "metadata": {
    "collapsed": true
   },
   "outputs": [],
   "source": [
    "def getWordLengthDistribution(words):\n",
    "    result = FreqDist()\n",
    "    for w in words:        \n",
    "        result[len(w)] += 1\n",
    "    \n",
    "    return result\n",
    "\n",
    "def printFreqDist(freq_dist):\n",
    "    for key,value in freq_dist.items():\n",
    "        print (key,value)    \n",
    "\n",
    "printFreqDist(getWordLengthDistribution(works['THE TRAGEDY OF ANTONY AND CLEOPATRA ACT_3|S'][0]))"
   ]
  },
  {
   "cell_type": "code",
   "execution_count": null,
   "metadata": {
    "collapsed": true
   },
   "outputs": [],
   "source": [
    "def getSentenceLengthDistribution(sents):\n",
    "    result = FreqDist()\n",
    "    for s in sents:        \n",
    "        result[len(s)] += 1\n",
    "    \n",
    "    return result   \n",
    "\n",
    "printFreqDist(getSentenceLengthDistribution(works['THE TRAGEDY OF ANTONY AND CLEOPATRA ACT_3|S'][1]))"
   ]
  }
 ],
 "metadata": {
  "kernelspec": {
   "display_name": "Python 3",
   "language": "python",
   "name": "python3"
  },
  "language_info": {
   "codemirror_mode": {
    "name": "ipython",
    "version": 3
   },
   "file_extension": ".py",
   "mimetype": "text/x-python",
   "name": "python",
   "nbconvert_exporter": "python",
   "pygments_lexer": "ipython3",
   "version": "3.4.3"
  }
 },
 "nbformat": 4,
 "nbformat_minor": 0
}
